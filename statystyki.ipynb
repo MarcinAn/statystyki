{
  "nbformat": 4,
  "nbformat_minor": 0,
  "metadata": {
    "colab": {
      "provenance": [],
      "authorship_tag": "ABX9TyPTHXHXquH9MnPZWf+VZT9c",
      "include_colab_link": true
    },
    "kernelspec": {
      "name": "python3",
      "display_name": "Python 3"
    },
    "language_info": {
      "name": "python"
    }
  },
  "cells": [
    {
      "cell_type": "markdown",
      "metadata": {
        "id": "view-in-github",
        "colab_type": "text"
      },
      "source": [
        "<a href=\"https://colab.research.google.com/github/MarcinAn/statystyki/blob/main/statystyki.ipynb\" target=\"_parent\"><img src=\"https://colab.research.google.com/assets/colab-badge.svg\" alt=\"Open In Colab\"/></a>"
      ]
    },
    {
      "cell_type": "markdown",
      "source": [
        "# **Tworzenie danych**"
      ],
      "metadata": {
        "id": "-2i_xIt2loPZ"
      }
    },
    {
      "cell_type": "code",
      "source": [
        "import numpy as np\n",
        "import pandas as pd\n",
        "import matplotlib.pyplot as plt\n",
        "import seaborn as sns\n",
        "from scipy import stats\n",
        "stats_norm_100 = pd.DataFrame(np.random.normal(loc=3, scale=1, size=100), columns=['Data'])\n",
        "stats_norm_10000 = pd.DataFrame(np.random.normal(loc=3, scale=1, size=1000), columns=['Data'])"
      ],
      "metadata": {
        "id": "GvCyB0D3jF0M"
      },
      "execution_count": 158,
      "outputs": []
    },
    {
      "cell_type": "markdown",
      "source": [
        "# **Stwórz dane z rozkładu normalnego o średniej 3 i odchyleniu standardowym 1 dla 100 oraz 10 000. Na podstawie tych sztucznie stworzonych zbiorów oblicz statystyki poznane w module statystki opisowej.**"
      ],
      "metadata": {
        "id": "nn6yrxsDlwtZ"
      }
    },
    {
      "cell_type": "markdown",
      "source": [
        "**Średnia, mediana, moda, kwartyle**"
      ],
      "metadata": {
        "id": "lfOaYQSMqZ2Y"
      }
    },
    {
      "cell_type": "code",
      "source": [
        "#Średnia\n",
        "stats_norm_100_mean = np.round(np.mean(stats_norm_100))\n",
        "stats_norm_10000_mean = np.round(np.mean(stats_norm_10000))\n",
        "#Mediana\n",
        "stats_norm_100_median = np.round(np.median(stats_norm_100))\n",
        "stats_norm_10000_median = np.round(np.median(stats_norm_10000 ))\n",
        "#Q0\n",
        "stats_norm_100_q0 = np.round(np.quantile(stats_norm_100, 0.0))\n",
        "stats_norm_10000_q0 = np.round(np.quantile(stats_norm_10000 , 0.0))\n",
        "#Q2\n",
        "stats_norm_100_q1 = np.round(np.quantile(stats_norm_100, 0.25))\n",
        "stats_norm_10000_q1 = np.round(np.quantile(stats_norm_10000 , 0.25))\n",
        "#Q2\n",
        "stats_norm_100_q3 = np.round(np.quantile(stats_norm_100, 0.75))\n",
        "stats_norm_10000_q3 = np.round(np.quantile(stats_norm_10000 , 0.75))\n",
        "#Q3\n",
        "stats_norm_100_q4 = np.round(np.quantile(stats_norm_100, 1.0))\n",
        "stats_norm_10000_q4 = np.round(np.quantile(stats_norm_10000 , 1.0))"
      ],
      "metadata": {
        "colab": {
          "base_uri": "https://localhost:8080/"
        },
        "id": "LjzEJaJ1lwPx",
        "outputId": "84397bd5-b716-41e4-e041-8a3930a453b9"
      },
      "execution_count": 150,
      "outputs": [
        {
          "output_type": "stream",
          "name": "stderr",
          "text": [
            "/usr/local/lib/python3.10/dist-packages/numpy/core/fromnumeric.py:3472: FutureWarning: In a future version, DataFrame.mean(axis=None) will return a scalar mean over the entire DataFrame. To retain the old behavior, use 'frame.mean(axis=0)' or just 'frame.mean()'\n",
            "  return mean(axis=axis, dtype=dtype, out=out, **kwargs)\n",
            "/usr/local/lib/python3.10/dist-packages/numpy/core/fromnumeric.py:3472: FutureWarning: In a future version, DataFrame.mean(axis=None) will return a scalar mean over the entire DataFrame. To retain the old behavior, use 'frame.mean(axis=0)' or just 'frame.mean()'\n",
            "  return mean(axis=axis, dtype=dtype, out=out, **kwargs)\n"
          ]
        }
      ]
    },
    {
      "cell_type": "markdown",
      "source": [
        "**Dane dla 100**"
      ],
      "metadata": {
        "id": "KgoF4MnStN2d"
      }
    },
    {
      "cell_type": "code",
      "source": [
        "print(round(stats_norm_100.describe(),2))"
      ],
      "metadata": {
        "colab": {
          "base_uri": "https://localhost:8080/"
        },
        "id": "SbNwOI8IsOs3",
        "outputId": "a2dc31c6-f370-492e-ea28-c0ae262f9184"
      },
      "execution_count": 143,
      "outputs": [
        {
          "output_type": "stream",
          "name": "stdout",
          "text": [
            "         Data\n",
            "count  100.00\n",
            "mean     2.99\n",
            "std      1.07\n",
            "min      0.45\n",
            "25%      2.28\n",
            "50%      3.08\n",
            "75%      3.74\n",
            "max      6.17\n"
          ]
        }
      ]
    },
    {
      "cell_type": "markdown",
      "source": [
        "**Dane dla 10000**"
      ],
      "metadata": {
        "id": "d0Lgbe5DtSKc"
      }
    },
    {
      "cell_type": "code",
      "source": [
        "print(round(stats_norm_10000.describe(),2))"
      ],
      "metadata": {
        "colab": {
          "base_uri": "https://localhost:8080/"
        },
        "id": "1dCQS7CotSaA",
        "outputId": "518e27b3-7d29-42c2-a5dc-2574d283867f"
      },
      "execution_count": 144,
      "outputs": [
        {
          "output_type": "stream",
          "name": "stdout",
          "text": [
            "          Data\n",
            "count  1000.00\n",
            "mean      3.01\n",
            "std       0.99\n",
            "min       0.04\n",
            "25%       2.34\n",
            "50%       2.98\n",
            "75%       3.69\n",
            "max       6.53\n"
          ]
        }
      ]
    },
    {
      "cell_type": "markdown",
      "source": [
        "**Histogram**"
      ],
      "metadata": {
        "id": "WOxUjfiFq1Je"
      }
    },
    {
      "cell_type": "code",
      "source": [
        "plt.figure(figsize=(25,10))\n",
        "plt.subplots_adjust(left=0.1, bottom=0.1, right=0.8, top=0.8, wspace=0.1, hspace=0.1)\n",
        "\n",
        "plt.subplot(1,2,1)\n",
        "plt.hist(stats_norm_100, bins=30)\n",
        "plt.title('Rozkład normalny o średniej 3 i odchyleniu standardowym 1 dla 100')\n",
        "plt.axvline(x = stats_norm_100_mean.item(), color='red', label = 'Średnia')\n",
        "plt.axvline(x = stats_norm_100_median, color='green', label = 'Mediana')\n",
        "plt.axvline(x = stats_norm_100_q0, color='black', label = 'Min')\n",
        "plt.axvline(x = stats_norm_100_q1, color='black', label = 'Q1')\n",
        "plt.axvline(x = stats_norm_100_q3, color='black', label = 'Q3')\n",
        "plt.axvline(x = stats_norm_100_q4, color='black', label = 'Max')\n",
        "plt.legend(loc='upper right')\n",
        "\n",
        "plt.subplot(1,2,2)\n",
        "plt.hist(stats_norm_10000, bins=30)\n",
        "plt.title('Rozkład normalny o średniej 3 i odchyleniu standardowym 1 dla 10000')\n",
        "plt.axvline(x = stats_norm_10000_mean.item(), color='red', label = 'Średnia')\n",
        "plt.axvline(x = stats_norm_10000_median, color='green', label = 'Mediana')\n",
        "plt.axvline(x = stats_norm_10000_q0, color='black', label = 'Min')\n",
        "plt.axvline(x = stats_norm_10000_q1, color='black', label = 'Q1')\n",
        "plt.axvline(x = stats_norm_10000_q3, color='black', label = 'Q3')\n",
        "plt.axvline(x = stats_norm_10000_q4, color='black', label = 'Max')\n",
        "plt.legend(loc='upper right')\n",
        "\n",
        "plt.show()"
      ],
      "metadata": {
        "colab": {
          "base_uri": "https://localhost:8080/",
          "height": 783
        },
        "id": "PoP8NbnAnJIJ",
        "outputId": "e49f1976-aa15-4e6f-fbd7-b289a8a604e0"
      },
      "execution_count": 146,
      "outputs": [
        {
          "output_type": "display_data",
          "data": {
            "text/plain": [
              "<Figure size 2500x1000 with 2 Axes>"
            ],
            "image/png": "[encoded data removed]"
          },
          "metadata": {}
        }
      ]
    },
    {
      "cell_type": "markdown",
      "source": [
        "W obu przypadkach średnia jest równa medianie. W rozkładzie normalnym oznacza to, że rozkład jest symetryczny."
      ],
      "metadata": {
        "id": "lTHSJPy2uQ84"
      }
    },
    {
      "cell_type": "markdown",
      "source": [
        "**Kwartyle dla przedziału 100:**\n",
        "\n",
        "Kwartyl pierwszy (Q1) równy 2.28\n",
        "- 25% danych ma wartości mniejsze lub równe 2.28, pozostałe 75% danych ma wartości większe.\n",
        "\n",
        "Kwartyl drugi (Q2) równy 3.08\n",
        "- 50% danych danych ma wartości mniejsze lub równe 3.08, a pozostałe 50% danych ma wartości większe.\n",
        "\n",
        "Kwartyl trzeci (Q3) równy 3.74\n",
        "- 75% danych ma wartości mniejsze lub równe 3.74, a pozostałe 25% danych ma wartości większe."
      ],
      "metadata": {
        "id": "uqH0jUhDugWd"
      }
    },
    {
      "cell_type": "markdown",
      "source": [
        "**Kwartyle dla przedziału 10000:**\n",
        "\n",
        "Kwartyl pierwszy (Q1) równy 2.34\n",
        "- 25% danych ma wartości mniejsze lub równe 2.34, pozostałe 75% danych ma wartości większe.\n",
        "\n",
        "Kwartyl drugi (Q2) równy 2.98\n",
        "- 50% danych danych ma wartości mniejsze lub równe 2.98, a pozostałe 50% danych ma wartości większe.\n",
        "\n",
        "Kwartyl trzeci (Q3) równy 3.69\n",
        "- 75% danych ma wartości mniejsze lub równe 3.69, a pozostałe 25% danych ma wartości większe."
      ],
      "metadata": {
        "id": "xdbiuW-dvVfc"
      }
    },
    {
      "cell_type": "markdown",
      "source": [
        "**Zakres, rozstęp międzykwartylowy - IQR**"
      ],
      "metadata": {
        "id": "9-HhHvyuq9TE"
      }
    },
    {
      "cell_type": "code",
      "source": [
        "#Zakres\n",
        "stats_norm_100_range = round(np.max(stats_norm_100) - np.min(stats_norm_100),2)\n",
        "stats_norm_10000_range = round(np.max(stats_norm_10000) - np.min(stats_norm_10000),2)\n",
        "#IQR\n",
        "stats_norm_100_iqr = stats_norm_100_q3 - stats_norm_100_q1\n",
        "stats_norm_10000_iqr = stats_norm_10000_q3 - stats_norm_10000_q1"
      ],
      "metadata": {
        "id": "VEG1_yC2p5qB",
        "colab": {
          "base_uri": "https://localhost:8080/"
        },
        "outputId": "9697844e-a746-476d-ecae-e4c4cf8ed711"
      },
      "execution_count": 131,
      "outputs": [
        {
          "output_type": "stream",
          "name": "stderr",
          "text": [
            "/usr/local/lib/python3.10/dist-packages/numpy/core/fromnumeric.py:84: FutureWarning: In a future version, DataFrame.max(axis=None) will return a scalar max over the entire DataFrame. To retain the old behavior, use 'frame.max(axis=0)' or just 'frame.max()'\n",
            "  return reduction(axis=axis, out=out, **passkwargs)\n",
            "/usr/local/lib/python3.10/dist-packages/numpy/core/fromnumeric.py:84: FutureWarning: In a future version, DataFrame.min(axis=None) will return a scalar min over the entire DataFrame. To retain the old behavior, use 'frame.min(axis=0)' or just 'frame.min()'\n",
            "  return reduction(axis=axis, out=out, **passkwargs)\n",
            "/usr/local/lib/python3.10/dist-packages/numpy/core/fromnumeric.py:84: FutureWarning: In a future version, DataFrame.max(axis=None) will return a scalar max over the entire DataFrame. To retain the old behavior, use 'frame.max(axis=0)' or just 'frame.max()'\n",
            "  return reduction(axis=axis, out=out, **passkwargs)\n",
            "/usr/local/lib/python3.10/dist-packages/numpy/core/fromnumeric.py:84: FutureWarning: In a future version, DataFrame.min(axis=None) will return a scalar min over the entire DataFrame. To retain the old behavior, use 'frame.min(axis=0)' or just 'frame.min()'\n",
            "  return reduction(axis=axis, out=out, **passkwargs)\n"
          ]
        }
      ]
    },
    {
      "cell_type": "code",
      "source": [
        "print(f'Zakres dla 100: {stats_norm_100_range.item()}')\n",
        "print(f'Zakres dla 10000: {stats_norm_10000_range.item()}')\n",
        "print(f'Rozstęp międzykwartylowy dla 100: {stats_norm_100_iqr.item()}')\n",
        "print(f'Rozstęp międzykwartylowy dla 10000: {stats_norm_10000_iqr.item()}')"
      ],
      "metadata": {
        "colab": {
          "base_uri": "https://localhost:8080/"
        },
        "id": "hRYkRHILqGmG",
        "outputId": "80dc1044-da3d-43e7-814c-fc7160a91b03"
      },
      "execution_count": 156,
      "outputs": [
        {
          "output_type": "stream",
          "name": "stdout",
          "text": [
            "Zakres dla 100: 5.12\n",
            "Zakres dla 10000: 5.9\n",
            "Rozstęp międzykwartylowy dla 100: 2.0\n",
            "Rozstęp międzykwartylowy dla 10000: 2.0\n"
          ]
        }
      ]
    },
    {
      "cell_type": "markdown",
      "source": [
        "Wyższy zakres dla próbki 10000 (5.9) może oznaczać większe rozproszenie danych wokół średniej niż w próbce 100.\n",
        "Wartość IQR w obu próbkach jest równa 2, oznacza to, że rozproszenie wartości znajdujących się w środku jest podobne dla obu próbek."
      ],
      "metadata": {
        "id": "tEizOFjBxRo8"
      }
    },
    {
      "cell_type": "markdown",
      "source": [
        "**Wykres pudełkowy**"
      ],
      "metadata": {
        "id": "908thqJ7r4Is"
      }
    },
    {
      "cell_type": "code",
      "source": [
        "plt.figure(figsize=(25,10))\n",
        "plt.subplots_adjust(left=0.1, bottom=0.1, right=0.8, top=0.8, wspace=0.1, hspace=0.1)\n",
        "\n",
        "plt.subplot(1,2,1)\n",
        "plt.title('Rozkład normalny dla 100 wyników')\n",
        "plt.boxplot(stats_norm_100)\n",
        "plt.subplot(1,2,2)\n",
        "plt.title('Rozkład normalny dla 10000 wyników')\n",
        "plt.boxplot(stats_norm_10000)\n",
        "\n",
        "plt.show()"
      ],
      "metadata": {
        "colab": {
          "base_uri": "https://localhost:8080/",
          "height": 783
        },
        "id": "rkLKkPphtnJO",
        "outputId": "a6bdfe90-96b5-444f-db02-3f6bdf9b377c"
      },
      "execution_count": 133,
      "outputs": [
        {
          "output_type": "display_data",
          "data": {
            "text/plain": [
              "<Figure size 2500x1000 with 2 Axes>"
            ],
            "image/png": "[encoded data removed]"
          },
          "metadata": {}
        }
      ]
    },
    {
      "cell_type": "markdown",
      "source": [
        "O obu przypadkach można zauważyć, że wartości odstające występują przy mniejszych wartościach, świadczy to o tym, że w tym miejscu rozkładu wartości są rzadsze."
      ],
      "metadata": {
        "id": "RuzB7BCeyj_s"
      }
    },
    {
      "cell_type": "markdown",
      "source": [
        "**Wariancja, odchylenie standardowe**"
      ],
      "metadata": {
        "id": "e2zGno_zuPgy"
      }
    },
    {
      "cell_type": "code",
      "source": [
        "stats_norm_100_variance = np.var(stats_norm_100, ddof=1)\n",
        "stats_norm_10000_variance = np.var(stats_norm_10000, ddof=1)\n",
        "\n",
        "stats_norm_100_standard_deviation = np.std(stats_norm_100, ddof=1)\n",
        "stats_norm_10000_standard_deviation = np.std(stats_norm_10000, ddof=1)"
      ],
      "metadata": {
        "id": "UU33DH7nuRxV"
      },
      "execution_count": 134,
      "outputs": []
    },
    {
      "cell_type": "code",
      "source": [
        "print(f'Wariancja dla 100: {round(stats_norm_100_variance[0],2)}')\n",
        "print(f'Wariancja dla 10000: {round(stats_norm_10000_variance[0],2)}')\n",
        "print(f'Odchylenie standardowe dla 100: {round(stats_norm_100_standard_deviation[0],2)}')\n",
        "print(f'Odchylenie standardowe dla 10000: {round(stats_norm_10000_standard_deviation[0],2)}')"
      ],
      "metadata": {
        "colab": {
          "base_uri": "https://localhost:8080/"
        },
        "id": "0saMk_hwux7m",
        "outputId": "39d9ba75-8e46-4c68-c94c-ce95aaee6f6c"
      },
      "execution_count": 135,
      "outputs": [
        {
          "output_type": "stream",
          "name": "stdout",
          "text": [
            "Wariancja dla 100: 1.03\n",
            "Wariancja dla 10000: 0.98\n",
            "Odchylenie standardowe dla 100: 1.02\n",
            "Odchylenie standardowe dla 10000: 0.99\n"
          ]
        }
      ]
    },
    {
      "cell_type": "markdown",
      "source": [
        "Dla rozkładu 10000 wariancja i odchylenie standardowe są nieznacznie mniejsze co może oznaczać, że w przypadku większej liczby wariancja oraz odchylenie standardowe jest bardziej precyzyjne."
      ],
      "metadata": {
        "id": "gGB9BZ9QphJw"
      }
    }
  ]
}